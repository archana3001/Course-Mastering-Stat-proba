{
  "nbformat": 4,
  "nbformat_minor": 0,
  "metadata": {
    "colab": {
      "name": "Untitled5.ipynb",
      "provenance": [],
      "collapsed_sections": [],
      "authorship_tag": "ABX9TyNkUm/lFLqu2XDs62p/NWTG",
      "include_colab_link": true
    },
    "kernelspec": {
      "name": "python3",
      "display_name": "Python 3"
    },
    "language_info": {
      "name": "python"
    }
  },
  "cells": [
    {
      "cell_type": "markdown",
      "metadata": {
        "id": "view-in-github",
        "colab_type": "text"
      },
      "source": [
        "<a href=\"https://colab.research.google.com/github/archana3001/Course-Mastering-Stat-proba/blob/master/regression.ipynb\" target=\"_parent\"><img src=\"https://colab.research.google.com/assets/colab-badge.svg\" alt=\"Open In Colab\"/></a>"
      ]
    },
    {
      "cell_type": "code",
      "metadata": {
        "colab": {
          "base_uri": "https://localhost:8080/"
        },
        "id": "_xS7Gh6jvuDX",
        "outputId": "6df4cb52-1928-41c0-cbfb-eba3b3172eda"
      },
      "source": [
        "!pip uninstall sklearn -y\n",
        "!pip install Cython\n",
        "!pip install https://github.com/Santosh-Gupta/scikit-learn/archive/master.zip"
      ],
      "execution_count": 4,
      "outputs": [
        {
          "output_type": "stream",
          "name": "stdout",
          "text": [
            "\u001b[33mWARNING: Skipping sklearn as it is not installed.\u001b[0m\n",
            "Requirement already satisfied: Cython in /usr/local/lib/python3.7/dist-packages (0.29.24)\n",
            "Collecting https://github.com/Santosh-Gupta/scikit-learn/archive/master.zip\n",
            "  Using cached https://github.com/Santosh-Gupta/scikit-learn/archive/master.zip\n",
            "Requirement already satisfied: numpy>=1.8.2 in /usr/local/lib/python3.7/dist-packages (from scikit-learn==0.20.dev0) (1.19.5)\n",
            "Requirement already satisfied: scipy>=0.13.3 in /usr/local/lib/python3.7/dist-packages (from scikit-learn==0.20.dev0) (1.4.1)\n"
          ]
        }
      ]
    },
    {
      "cell_type": "code",
      "metadata": {
        "colab": {
          "base_uri": "https://localhost:8080/",
          "height": 366
        },
        "id": "3mXthbxJ18rN",
        "outputId": "b57ab414-fb12-46a4-ab6d-0751a04e89f5"
      },
      "source": [
        "#required libraries\n",
        "import numpy as np\n",
        "import pandas as pd\n",
        "import matplotlib.pyplot as plt\n",
        "from sklearn.model_selection import train_test_split\n",
        "from sklearn.linear_model import LinearRegression\n",
        "\n",
        "#importing dataset\n",
        "dataset=pd.read_csv(\"/content/Position_Salaries.csv\")\n",
        "x=dataset.iloc[:,1:2].values #position level 2nd column\n",
        "y=dataset.iloc[:, 2:].values #salary 3rd column\n",
        "\n",
        "#split data set into test and training data\n",
        "x_train, x_test, y_train, y_test=train_test_split(x,y,test_size=0.3, random_state=0)\n",
        "\n",
        "#fitting simple Linear regression to training set\n",
        "regressor=LinearRegression()\n",
        "regressor.fit(x_train,y_train)\n",
        "\n",
        "#predicting\n",
        "y_pred=regressor.predict(x_test)\n",
        "\n",
        "#validating result\n",
        "plt.scatter(x_train, y_train, color='yellow') #train data\n",
        "plt.scatter(x_test, y_test, color='red') #test data\n",
        "plt.plot(x_train, regressor.predict(x_train), color='blue') #linear regression line\n",
        "plt.title(\"Experience vs Salary\")\n",
        "plt.ylabel(\"salary\")\n",
        "plt.xlabel(\"experience\")\n",
        "plt.show()\n",
        "\n",
        "#regression coefficient\n",
        "print(\"coefficients : \", regressor.coef_)\n",
        "\n",
        "#mean sqaure error\n",
        "print(\"mean square error : \", np.mean((regressor.predict(x_test)-y_test)**2))\n",
        "\n",
        "# variance score here 1 means perfect prediction\n",
        "print(\"score : \", regressor.score(x_test, y_test))\n",
        "\n",
        "#accuracy\n",
        "print(\"accuracy : \", round(((regressor.score(x_test, y_test))*100),2), \"%\")"
      ],
      "execution_count": 11,
      "outputs": [
        {
          "output_type": "display_data",
          "data": {
            "image/png": "[encoded data removed]",
            "text/plain": [
              "<Figure size 432x288 with 1 Axes>"
            ]
          },
          "metadata": {
            "needs_background": "light"
          }
        },
        {
          "output_type": "stream",
          "name": "stdout",
          "text": [
            "coefficients :  [[82522.42152466]]\n",
            "mean square error :  5459476822.712437\n",
            "score :  0.8588877328994488\n",
            "accuracy :  85.89 %\n"
          ]
        }
      ]
    },
    {
      "cell_type": "code",
      "metadata": {
        "id": "gLcTGOcX14on"
      },
      "source": [
        ""
      ],
      "execution_count": null,
      "outputs": []
    },
    {
      "cell_type": "code",
      "metadata": {
        "id": "XyWEp6Sj1vgE"
      },
      "source": [
        ""
      ],
      "execution_count": null,
      "outputs": []
    }
  ]
}