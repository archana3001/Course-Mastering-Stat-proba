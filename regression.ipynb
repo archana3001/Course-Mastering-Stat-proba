{
  "nbformat": 4,
  "nbformat_minor": 0,
  "metadata": {
    "colab": {
      "name": "Untitled5.ipynb",
      "provenance": [],
      "collapsed_sections": [],
      "authorship_tag": "ABX9TyPyaBjE3J5nCo8vvLDV+hve",
      "include_colab_link": true
    },
    "kernelspec": {
      "name": "python3",
      "display_name": "Python 3"
    },
    "language_info": {
      "name": "python"
    }
  },
  "cells": [
    {
      "cell_type": "markdown",
      "metadata": {
        "id": "view-in-github",
        "colab_type": "text"
      },
      "source": [
        "<a href=\"https://colab.research.google.com/github/archana3001/Course-Mastering-Stat-proba/blob/master/regression.ipynb\" target=\"_parent\"><img src=\"https://colab.research.google.com/assets/colab-badge.svg\" alt=\"Open In Colab\"/></a>"
      ]
    },
    {
      "cell_type": "code",
      "metadata": {
        "colab": {
          "base_uri": "https://localhost:8080/"
        },
        "id": "_xS7Gh6jvuDX",
        "outputId": "6df4cb52-1928-41c0-cbfb-eba3b3172eda"
      },
      "source": [
        "!pip uninstall sklearn -y\n",
        "!pip install Cython\n",
        "!pip install https://github.com/Santosh-Gupta/scikit-learn/archive/master.zip"
      ],
      "execution_count": null,
      "outputs": [
        {
          "output_type": "stream",
          "name": "stdout",
          "text": [
            "\u001b[33mWARNING: Skipping sklearn as it is not installed.\u001b[0m\n",
            "Requirement already satisfied: Cython in /usr/local/lib/python3.7/dist-packages (0.29.24)\n",
            "Collecting https://github.com/Santosh-Gupta/scikit-learn/archive/master.zip\n",
            "  Using cached https://github.com/Santosh-Gupta/scikit-learn/archive/master.zip\n",
            "Requirement already satisfied: numpy>=1.8.2 in /usr/local/lib/python3.7/dist-packages (from scikit-learn==0.20.dev0) (1.19.5)\n",
            "Requirement already satisfied: scipy>=0.13.3 in /usr/local/lib/python3.7/dist-packages (from scikit-learn==0.20.dev0) (1.4.1)\n"
          ]
        }
      ]
    },
    {
      "cell_type": "code",
      "metadata": {
        "colab": {
          "base_uri": "https://localhost:8080/",
          "height": 366
        },
        "id": "3mXthbxJ18rN",
        "outputId": "b57ab414-fb12-46a4-ab6d-0751a04e89f5"
      },
      "source": [
        "#required libraries\n",
        "import numpy as np\n",
        "import pandas as pd\n",
        "import matplotlib.pyplot as plt\n",
        "from sklearn.model_selection import train_test_split\n",
        "from sklearn.linear_model import LinearRegression\n",
        "\n",
        "#importing dataset\n",
        "dataset=pd.read_csv(\"/content/Position_Salaries.csv\")\n",
        "x=dataset.iloc[:,1:2].values #position level 2nd column\n",
        "y=dataset.iloc[:, 2:].values #salary 3rd column\n",
        "\n",
        "#split data set into test and training data\n",
        "x_train, x_test, y_train, y_test=train_test_split(x,y,test_size=0.3, random_state=0)\n",
        "\n",
        "#fitting simple Linear regression to training set\n",
        "regressor=LinearRegression()\n",
        "regressor.fit(x_train,y_train)\n",
        "\n",
        "#predicting\n",
        "y_pred=regressor.predict(x_test)\n",
        "\n",
        "#validating result\n",
        "plt.scatter(x_train, y_train, color='yellow') #train data\n",
        "plt.scatter(x_test, y_test, color='red') #test data\n",
        "plt.plot(x_train, regressor.predict(x_train), color='blue') #linear regression line\n",
        "plt.title(\"Experience vs Salary\")\n",
        "plt.ylabel(\"salary\")\n",
        "plt.xlabel(\"experience\")\n",
        "plt.show()\n",
        "\n",
        "#regression coefficient\n",
        "print(\"coefficients : \", regressor.coef_)\n",
        "\n",
        "#mean sqaure error\n",
        "print(\"mean square error : \", np.mean((regressor.predict(x_test)-y_test)**2))\n",
        "\n",
        "# variance score here 1 means perfect prediction\n",
        "print(\"score : \", regressor.score(x_test, y_test))\n",
        "\n",
        "#accuracy\n",
        "print(\"accuracy : \", round(((regressor.score(x_test, y_test))*100),2), \"%\")"
      ],
      "execution_count": null,
      "outputs": [
        {
          "output_type": "display_data",
          "data": {
            "image/png": "[encoded data removed]",
            "text/plain": [
              "<Figure size 432x288 with 1 Axes>"
            ]
          },
          "metadata": {
            "needs_background": "light"
          }
        },
        {
          "output_type": "stream",
          "name": "stdout",
          "text": [
            "coefficients :  [[82522.42152466]]\n",
            "mean square error :  5459476822.712437\n",
            "score :  0.8588877328994488\n",
            "accuracy :  85.89 %\n"
          ]
        }
      ]
    },
    {
      "cell_type": "code",
      "metadata": {
        "id": "gLcTGOcX14on",
        "outputId": "a5d1d259-db4f-4869-e29e-f44ec3493904",
        "colab": {
          "base_uri": "https://localhost:8080/"
        }
      },
      "source": [
        "#Predicting Stock Closing Price using multiple features\n",
        "#import\n",
        "import datetime as dt\n",
        "import numpy as np\n",
        "import pandas as pd\n",
        "import matplotlib.pyplot as plt\n",
        "from sklearn import linear_model\n",
        "import math\n",
        "\n",
        "#extract required features\n",
        "dataset=pd.read_csv('/content/sample_data/Google_Stock_Price_Train.csv') #train data set\n",
        "#first convert date to some integer values\n",
        "dataset['Date'] = pd.to_datetime(dataset['Date'])\n",
        "dataset['Date']=dataset['Date'].map(dt.datetime.toordinal)\n",
        "dataset['Volume']=dataset['Volume'].str.replace('£', '').str.replace(',','')\n",
        "\n",
        "#all column to numeric value\n",
        "dataset['Close']=pd.to_numeric(dataset['Close'], errors='coerce')\n",
        "dataset['Open']=pd.to_numeric(dataset['Open'], errors='coerce')\n",
        "dataset['High']=pd.to_numeric(dataset['High'], errors='coerce')\n",
        "dataset['Low']=pd.to_numeric(dataset['Low'], errors='coerce')\n",
        "dataset['Volume']=pd.to_numeric(dataset['Volume'], errors='coerce').astype('Int64')\n",
        "\n",
        "#detecting null column if any\n",
        "#print(dataset['Close'].isnull().sum()) #no of empty Close column\n",
        "\n",
        "#removing null columns\n",
        "dataset.dropna()\n",
        "print(dataset)\n",
        "\n",
        "#finding null data set and filling\n",
        "dataset.isnull().sum()\n",
        "median_close=math.floor(dataset.Close.median())\n",
        "median_close\n",
        "dataset.Close=dataset.Close.fillna(median_close)\n",
        "dataset.isnull().sum()\n",
        "\n",
        "reg=linear_model.LinearRegression()\n",
        "reg.fit(dataset[['Open','High','Low','Volume']],dataset[['Close']])\n"
      ],
      "execution_count": 3,
      "outputs": [
        {
          "output_type": "stream",
          "name": "stdout",
          "text": [
            "        Date    Open    High     Low   Close    Volume\n",
            "0     734505  325.25  332.83  324.97  663.59   7380500\n",
            "1     734506  331.27  333.87  329.08  666.45   5749400\n",
            "2     734507  329.83  330.75  326.89  657.21   6590300\n",
            "3     734508  328.34  328.77  323.68  648.24   5405900\n",
            "4     734511  322.04  322.29  309.46  620.76  11688800\n",
            "...      ...     ...     ...     ...     ...       ...\n",
            "1253  736321  790.90  792.74  787.28  789.91    623400\n",
            "1254  736325  790.68  797.86  787.66  791.55    789100\n",
            "1255  736326  793.70  794.23  783.20  785.05   1153800\n",
            "1256  736327  783.33  785.93  778.92  782.79    744300\n",
            "1257  736328  782.75  782.78  770.41  771.82   1770000\n",
            "\n",
            "[1258 rows x 6 columns]\n"
          ]
        },
        {
          "output_type": "execute_result",
          "data": {
            "text/plain": [
              "LinearRegression(copy_X=True, fit_intercept=True, n_jobs=None, normalize=False)"
            ]
          },
          "metadata": {},
          "execution_count": 3
        }
      ]
    },
    {
      "cell_type": "code",
      "metadata": {
        "id": "XyWEp6Sj1vgE",
        "outputId": "2adb5d75-e4cb-423b-beef-8775b5ec6bc3",
        "colab": {
          "base_uri": "https://localhost:8080/",
          "height": 665
        }
      },
      "source": [
        "#test set extraction\n",
        "testset=pd.read_csv('/content/sample_data/Google_Stock_Price_Test.csv') #test data set\n",
        "\n",
        "#first convert date to some integer values\n",
        "testset['Date'] = pd.to_datetime(testset['Date'])\n",
        "testset['Date']=testset['Date'].map(dt.datetime.toordinal)\n",
        "testset['Volume']=testset['Volume'].str.replace('£', '').str.replace(',','')\n",
        "\n",
        "testset['Close']=pd.to_numeric(testset['Close'], errors='coerce')\n",
        "testset['Open']=pd.to_numeric(testset['Open'], errors='coerce')\n",
        "testset['High']=pd.to_numeric(testset['High'], errors='coerce')\n",
        "testset['Low']=pd.to_numeric(testset['Low'], errors='coerce')\n",
        "testset['Volume']=pd.to_numeric(testset['Volume'], errors='coerce')\n",
        "\n",
        "#deleting duplicates\n",
        "testset.isnull().sum()\n",
        "testset"
      ],
      "execution_count": 5,
      "outputs": [
        {
          "output_type": "execute_result",
          "data": {
            "text/html": [
              "<div>\n",
              "<style scoped>\n",
              "    .dataframe tbody tr th:only-of-type {\n",
              "        vertical-align: middle;\n",
              "    }\n",
              "\n",
              "    .dataframe tbody tr th {\n",
              "        vertical-align: top;\n",
              "    }\n",
              "\n",
              "    .dataframe thead th {\n",
              "        text-align: right;\n",
              "    }\n",
              "</style>\n",
              "<table border=\"1\" class=\"dataframe\">\n",
              "  <thead>\n",
              "    <tr style=\"text-align: right;\">\n",
              "      <th></th>\n",
              "      <th>Date</th>\n",
              "      <th>Open</th>\n",
              "      <th>High</th>\n",
              "      <th>Low</th>\n",
              "      <th>Close</th>\n",
              "      <th>Volume</th>\n",
              "    </tr>\n",
              "  </thead>\n",
              "  <tbody>\n",
              "    <tr>\n",
              "      <th>0</th>\n",
              "      <td>736332</td>\n",
              "      <td>778.81</td>\n",
              "      <td>789.63</td>\n",
              "      <td>775.80</td>\n",
              "      <td>786.14</td>\n",
              "      <td>1657300</td>\n",
              "    </tr>\n",
              "    <tr>\n",
              "      <th>1</th>\n",
              "      <td>736333</td>\n",
              "      <td>788.36</td>\n",
              "      <td>791.34</td>\n",
              "      <td>783.16</td>\n",
              "      <td>786.90</td>\n",
              "      <td>1073000</td>\n",
              "    </tr>\n",
              "    <tr>\n",
              "      <th>2</th>\n",
              "      <td>736334</td>\n",
              "      <td>786.08</td>\n",
              "      <td>794.48</td>\n",
              "      <td>785.02</td>\n",
              "      <td>794.02</td>\n",
              "      <td>1335200</td>\n",
              "    </tr>\n",
              "    <tr>\n",
              "      <th>3</th>\n",
              "      <td>736335</td>\n",
              "      <td>795.26</td>\n",
              "      <td>807.90</td>\n",
              "      <td>792.20</td>\n",
              "      <td>806.15</td>\n",
              "      <td>1640200</td>\n",
              "    </tr>\n",
              "    <tr>\n",
              "      <th>4</th>\n",
              "      <td>736338</td>\n",
              "      <td>806.40</td>\n",
              "      <td>809.97</td>\n",
              "      <td>802.83</td>\n",
              "      <td>806.65</td>\n",
              "      <td>1272400</td>\n",
              "    </tr>\n",
              "    <tr>\n",
              "      <th>5</th>\n",
              "      <td>736339</td>\n",
              "      <td>807.86</td>\n",
              "      <td>809.13</td>\n",
              "      <td>803.51</td>\n",
              "      <td>804.79</td>\n",
              "      <td>1176800</td>\n",
              "    </tr>\n",
              "    <tr>\n",
              "      <th>6</th>\n",
              "      <td>736340</td>\n",
              "      <td>805.00</td>\n",
              "      <td>808.15</td>\n",
              "      <td>801.37</td>\n",
              "      <td>807.91</td>\n",
              "      <td>1065900</td>\n",
              "    </tr>\n",
              "    <tr>\n",
              "      <th>7</th>\n",
              "      <td>736341</td>\n",
              "      <td>807.14</td>\n",
              "      <td>807.39</td>\n",
              "      <td>799.17</td>\n",
              "      <td>806.36</td>\n",
              "      <td>1353100</td>\n",
              "    </tr>\n",
              "    <tr>\n",
              "      <th>8</th>\n",
              "      <td>736342</td>\n",
              "      <td>807.48</td>\n",
              "      <td>811.22</td>\n",
              "      <td>806.69</td>\n",
              "      <td>807.88</td>\n",
              "      <td>1099200</td>\n",
              "    </tr>\n",
              "    <tr>\n",
              "      <th>9</th>\n",
              "      <td>736346</td>\n",
              "      <td>807.08</td>\n",
              "      <td>807.14</td>\n",
              "      <td>800.37</td>\n",
              "      <td>804.61</td>\n",
              "      <td>1362100</td>\n",
              "    </tr>\n",
              "    <tr>\n",
              "      <th>10</th>\n",
              "      <td>736347</td>\n",
              "      <td>805.81</td>\n",
              "      <td>806.21</td>\n",
              "      <td>800.99</td>\n",
              "      <td>806.07</td>\n",
              "      <td>1294400</td>\n",
              "    </tr>\n",
              "    <tr>\n",
              "      <th>11</th>\n",
              "      <td>736348</td>\n",
              "      <td>805.12</td>\n",
              "      <td>809.48</td>\n",
              "      <td>801.80</td>\n",
              "      <td>802.17</td>\n",
              "      <td>919300</td>\n",
              "    </tr>\n",
              "    <tr>\n",
              "      <th>12</th>\n",
              "      <td>736349</td>\n",
              "      <td>806.91</td>\n",
              "      <td>806.91</td>\n",
              "      <td>801.69</td>\n",
              "      <td>805.02</td>\n",
              "      <td>1670000</td>\n",
              "    </tr>\n",
              "    <tr>\n",
              "      <th>13</th>\n",
              "      <td>736352</td>\n",
              "      <td>807.25</td>\n",
              "      <td>820.87</td>\n",
              "      <td>803.74</td>\n",
              "      <td>819.31</td>\n",
              "      <td>1963600</td>\n",
              "    </tr>\n",
              "    <tr>\n",
              "      <th>14</th>\n",
              "      <td>736353</td>\n",
              "      <td>822.30</td>\n",
              "      <td>825.90</td>\n",
              "      <td>817.82</td>\n",
              "      <td>823.87</td>\n",
              "      <td>1474000</td>\n",
              "    </tr>\n",
              "    <tr>\n",
              "      <th>15</th>\n",
              "      <td>736354</td>\n",
              "      <td>829.62</td>\n",
              "      <td>835.77</td>\n",
              "      <td>825.06</td>\n",
              "      <td>835.67</td>\n",
              "      <td>1494500</td>\n",
              "    </tr>\n",
              "    <tr>\n",
              "      <th>16</th>\n",
              "      <td>736355</td>\n",
              "      <td>837.81</td>\n",
              "      <td>838.00</td>\n",
              "      <td>827.01</td>\n",
              "      <td>832.15</td>\n",
              "      <td>2973900</td>\n",
              "    </tr>\n",
              "    <tr>\n",
              "      <th>17</th>\n",
              "      <td>736356</td>\n",
              "      <td>834.71</td>\n",
              "      <td>841.95</td>\n",
              "      <td>820.44</td>\n",
              "      <td>823.31</td>\n",
              "      <td>2965800</td>\n",
              "    </tr>\n",
              "    <tr>\n",
              "      <th>18</th>\n",
              "      <td>736359</td>\n",
              "      <td>814.66</td>\n",
              "      <td>815.84</td>\n",
              "      <td>799.80</td>\n",
              "      <td>802.32</td>\n",
              "      <td>3246600</td>\n",
              "    </tr>\n",
              "    <tr>\n",
              "      <th>19</th>\n",
              "      <td>736360</td>\n",
              "      <td>796.86</td>\n",
              "      <td>801.25</td>\n",
              "      <td>790.52</td>\n",
              "      <td>796.79</td>\n",
              "      <td>2160600</td>\n",
              "    </tr>\n",
              "  </tbody>\n",
              "</table>\n",
              "</div>"
            ],
            "text/plain": [
              "      Date    Open    High     Low   Close   Volume\n",
              "0   736332  778.81  789.63  775.80  786.14  1657300\n",
              "1   736333  788.36  791.34  783.16  786.90  1073000\n",
              "2   736334  786.08  794.48  785.02  794.02  1335200\n",
              "3   736335  795.26  807.90  792.20  806.15  1640200\n",
              "4   736338  806.40  809.97  802.83  806.65  1272400\n",
              "5   736339  807.86  809.13  803.51  804.79  1176800\n",
              "6   736340  805.00  808.15  801.37  807.91  1065900\n",
              "7   736341  807.14  807.39  799.17  806.36  1353100\n",
              "8   736342  807.48  811.22  806.69  807.88  1099200\n",
              "9   736346  807.08  807.14  800.37  804.61  1362100\n",
              "10  736347  805.81  806.21  800.99  806.07  1294400\n",
              "11  736348  805.12  809.48  801.80  802.17   919300\n",
              "12  736349  806.91  806.91  801.69  805.02  1670000\n",
              "13  736352  807.25  820.87  803.74  819.31  1963600\n",
              "14  736353  822.30  825.90  817.82  823.87  1474000\n",
              "15  736354  829.62  835.77  825.06  835.67  1494500\n",
              "16  736355  837.81  838.00  827.01  832.15  2973900\n",
              "17  736356  834.71  841.95  820.44  823.31  2965800\n",
              "18  736359  814.66  815.84  799.80  802.32  3246600\n",
              "19  736360  796.86  801.25  790.52  796.79  2160600"
            ]
          },
          "metadata": {},
          "execution_count": 5
        }
      ]
    },
    {
      "cell_type": "code",
      "metadata": {
        "id": "RYUetGA1i5PB",
        "outputId": "175ec17a-4535-43db-fd41-0072d5afbbee",
        "colab": {
          "base_uri": "https://localhost:8080/"
        }
      },
      "source": [
        "#predicting\n",
        "y_pred=reg.predict(testset[['Open','High','Low','Volume']])\n",
        "y_pred"
      ],
      "execution_count": 6,
      "outputs": [
        {
          "output_type": "execute_result",
          "data": {
            "text/plain": [
              "array([[706.61649824],\n",
              "       [726.79945374],\n",
              "       [730.0959029 ],\n",
              "       [701.54157091],\n",
              "       [745.96486715],\n",
              "       [752.04233067],\n",
              "       [742.98400007],\n",
              "       [735.61374103],\n",
              "       [761.46941043],\n",
              "       [745.84693437],\n",
              "       [755.44277724],\n",
              "       [735.16570692],\n",
              "       [763.3608791 ],\n",
              "       [704.09924941],\n",
              "       [749.49871817],\n",
              "       [737.4832678 ],\n",
              "       [761.93502298],\n",
              "       [695.58953976],\n",
              "       [724.69429261],\n",
              "       [737.12852412]])"
            ]
          },
          "metadata": {},
          "execution_count": 6
        }
      ]
    },
    {
      "cell_type": "code",
      "metadata": {
        "colab": {
          "base_uri": "https://localhost:8080/"
        },
        "id": "z8cbT_1xjBzn",
        "outputId": "132f1355-1bd7-49a4-f5dd-947d6a7f7e1b"
      },
      "source": [
        "y_model=reg.predict(dataset[['Open', 'High','Low','Volume']])\n",
        "y_model"
      ],
      "execution_count": 7,
      "outputs": [
        {
          "output_type": "execute_result",
          "data": {
            "text/plain": [
              "array([[700.66704483],\n",
              "       [682.68558839],\n",
              "       [704.49836731],\n",
              "       ...,\n",
              "       [706.75820101],\n",
              "       [725.68110119],\n",
              "       [705.72739888]])"
            ]
          },
          "metadata": {},
          "execution_count": 7
        }
      ]
    },
    {
      "cell_type": "code",
      "metadata": {
        "id": "krGdZnRljLU2",
        "outputId": "f3c8dc13-62d1-4d51-c4a3-4a89d6e02231",
        "colab": {
          "base_uri": "https://localhost:8080/",
          "height": 295
        }
      },
      "source": [
        "#validating result\n",
        "plt.grid()\n",
        "plt.title(\"Predicting Closing Price\")\n",
        "plt.ylabel(\"Closing Price\")\n",
        "plt.xlabel(\"Opening Price\")\n",
        "\n",
        "plt.scatter(dataset[['Open']], dataset[['Close']], color='blue') #train data\n",
        "plt.scatter(testset[['Open']], testset[['Close']], color='red') #test data\n",
        "plt.plot(dataset[['Open']], y_model, color='green') #linear regression line\n",
        "plt.show()"
      ],
      "execution_count": 8,
      "outputs": [
        {
          "output_type": "display_data",
          "data": {
            "image/png": "[encoded data removed]",
            "text/plain": [
              "<Figure size 432x288 with 1 Axes>"
            ]
          },
          "metadata": {
            "needs_background": "light"
          }
        }
      ]
    }
  ]
}